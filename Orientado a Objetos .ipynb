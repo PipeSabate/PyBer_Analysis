{
 "cells": [
  {
   "cell_type": "code",
   "execution_count": 9,
   "id": "8c538efd",
   "metadata": {},
   "outputs": [],
   "source": [
    "class fruit:\n",
    "    def __init__(self):\n",
    "        self.name = \"apple\"\n",
    "        self.colour = \"red\""
   ]
  },
  {
   "cell_type": "code",
   "execution_count": 10,
   "id": "15d99f13",
   "metadata": {},
   "outputs": [],
   "source": [
    "mi_fruta = fruit()"
   ]
  },
  {
   "cell_type": "code",
   "execution_count": 11,
   "id": "e14568b3",
   "metadata": {},
   "outputs": [
    {
     "name": "stdout",
     "output_type": "stream",
     "text": [
      "red\n"
     ]
    }
   ],
   "source": [
    "print(mi_fruta.colour)"
   ]
  },
  {
   "cell_type": "code",
   "execution_count": 15,
   "id": "3a541b35",
   "metadata": {},
   "outputs": [
    {
     "name": "stdout",
     "output_type": "stream",
     "text": [
      "apple\n"
     ]
    }
   ],
   "source": [
    "print(mi_fruta.name)"
   ]
  },
  {
   "cell_type": "code",
   "execution_count": 32,
   "id": "8b268240",
   "metadata": {},
   "outputs": [],
   "source": [
    "class Cat:\n",
    "    def __init__(self, name , colour):\n",
    "        self.name = name\n",
    "        self.colour = colour"
   ]
  },
  {
   "cell_type": "code",
   "execution_count": 39,
   "id": "5ce8b249",
   "metadata": {},
   "outputs": [
    {
     "name": "stdout",
     "output_type": "stream",
     "text": [
      "blue\n"
     ]
    }
   ],
   "source": [
    "first_cat = Cat('Felix' , 'blue')\n",
    "Second_cat = Cat(\"Leonardi\" , \"grey\")\n",
    "print (first_cat.colour)"
   ]
  },
  {
   "cell_type": "code",
   "execution_count": null,
   "id": "ce19fd60",
   "metadata": {},
   "outputs": [],
   "source": []
  },
  {
   "cell_type": "code",
   "execution_count": null,
   "id": "3f7a4ed4",
   "metadata": {},
   "outputs": [],
   "source": []
  }
 ],
 "metadata": {
  "kernelspec": {
   "display_name": "PythonData",
   "language": "python",
   "name": "pythondata"
  },
  "language_info": {
   "codemirror_mode": {
    "name": "ipython",
    "version": 3
   },
   "file_extension": ".py",
   "mimetype": "text/x-python",
   "name": "python",
   "nbconvert_exporter": "python",
   "pygments_lexer": "ipython3",
   "version": "3.7.15"
  }
 },
 "nbformat": 4,
 "nbformat_minor": 5
}
